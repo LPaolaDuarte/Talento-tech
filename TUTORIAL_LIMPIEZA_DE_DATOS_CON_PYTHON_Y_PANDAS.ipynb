{
  "nbformat": 4,
  "nbformat_minor": 0,
  "metadata": {
    "colab": {
      "provenance": [],
      "mount_file_id": "1OcSXSie2Io-tRSoTcRVWAwTQsdxSHG9_",
      "authorship_tag": "ABX9TyP4W119Car7AF1QwICbM3/F",
      "include_colab_link": true
    },
    "kernelspec": {
      "name": "python3",
      "display_name": "Python 3"
    },
    "language_info": {
      "name": "python"
    }
  },
  "cells": [
    {
      "cell_type": "markdown",
      "metadata": {
        "id": "view-in-github",
        "colab_type": "text"
      },
      "source": [
        "<a href=\"https://colab.research.google.com/github/LPaolaDuarte/Talento-tech/blob/main/TUTORIAL_LIMPIEZA_DE_DATOS_CON_PYTHON_Y_PANDAS.ipynb\" target=\"_parent\"><img src=\"https://colab.research.google.com/assets/colab-badge.svg\" alt=\"Open In Colab\"/></a>"
      ]
    },
    {
      "cell_type": "markdown",
      "source": [
        "**TUTORIAL: LIMPIEZA DE DATOS CON PYTHON Y PANDAS**\n",
        "\n",
        "1. **El problema del negocio**\n",
        "\n",
        "Una entidad bancaria contrata una empresa de marketing encargada de contactar telefonicamente a posibles clientes para determinar si estan interesados o no en adquirir una certificado de deposito a termino con el banco\n",
        "\n",
        "2. **El set de datos**\n",
        "\n",
        "la informacion recolectada por la empresa de mercadeo se encuentra en un archivo CSV (datast_banco.csv) con 45215 filas y 17 columnas\n",
        "cada registro contiene 16 caracteristicas (las primeras 16 columnas) y una categoria (\"yes\" o \"no\" depeendiendo de si la persona esta o no interesada en adquirir el producto). Las columnas son:\n",
        " 1. \"age\": edad (numerica)\n",
        " 2. \"job\": tipo de trabajo (categorica:\"admin\",\"unknown\",\"unemployed\",\"management\",\"housemaid\",\"entrepreneusr\",student\",bleu-collar\",\"self-employed\",\"retired\",\"technician\",\"services\")\n",
        " 3. \"marital\": estado civil(categoria: \"married\",\"divorced\",\"sigle\"\n",
        " 4. \"education\":nivel educativo (categorica:\"unknown\",\"secondary\",\"primary\",\"tertiary\")\n",
        " 5. \"default\": si dejo de pagar sus obligaciones(categorica:\"yes\",\"no\")\n",
        " 6. \"balance\": saldo promedio anual en euros (numerica)\n",
        " 7. \"housing\": ¿tiene o no credito hipotecario?(categorica: \"yes\" o \"no\")\n",
        " 8. \"loan\":¿tiene creditos de consumo?(categorica: \"yes\" o \"no\")\n",
        " 9. \"contract\": medio a través del cual fue contactado (categoria: \"unknown\", \"telephone\",\"cellular\")\n",
        " 10. \"day\": ultimo dia del mes en el que fue contactada (numerica)\n",
        " 11. \"mount\": ultimo mes en el que fue contactada(categoria:\"jan\",\"feb\",\"mar\",...,\"nov\",\"dec\")\n",
        " 12. \"duration\": duracion(en segundos)del ultimo contacto (numerica)\n",
        " 13. \"campaign\": numero total de veces que fue contactada durante la campaña (numerica)\n",
        " 14. \"pdays\": numero de dias transcurridos despues de haber sido contactado antes de la campaña actual (numerica.-1 indicada que no fue contactado previamente)\n",
        " 15. \"previous\": numero de veces que ha sido contactada antes de esta campaña (numerica)\n",
        " 16. \"pountcome\": resultados de la campaña de marketing anterior (catagorica: \"unknown\",\"other\",\"failure\",\"success\")\n",
        " 17. \"y\": categorica ¿el cliente se suscribio a un deposito a termino?(categorica:\"yes\",\"no\")\n"
      ],
      "metadata": {
        "id": "pKdcxamKQpuF"
      }
    },
    {
      "cell_type": "markdown",
      "source": [
        "3.**Una primera mirada al data set**"
      ],
      "metadata": {
        "id": "RUNdE7Qrdugy"
      }
    },
    {
      "cell_type": "code",
      "execution_count": 1,
      "metadata": {
        "id": "XwXZPFgKQYHK"
      },
      "outputs": [],
      "source": [
        "# importar librerias\n",
        "import pandas as pd\n",
        "import matplotlib.pyplot as plt\n",
        "import seaborn as sns"
      ]
    },
    {
      "cell_type": "code",
      "source": [
        "# Lectura\n",
        "from google.colab import drive\n",
        "drive.mount('/content/dive')\n",
        "\n",
        "ruta = \"/content/dive/MyDrive/Colab Notebooks/DA_Talento/data/dataset_banco.csv\"\n",
        "data = pd.read_csv(ruta)"
      ],
      "metadata": {
        "colab": {
          "base_uri": "https://localhost:8080/"
        },
        "id": "2aQIL_OyebGJ",
        "outputId": "187b776a-b6f2-480e-b504-6decca715dbb"
      },
      "execution_count": 2,
      "outputs": [
        {
          "output_type": "stream",
          "name": "stdout",
          "text": [
            "Mounted at /content/dive\n"
          ]
        }
      ]
    },
    {
      "cell_type": "code",
      "source": [
        "print(data.shape)\n",
        "data.head()"
      ],
      "metadata": {
        "id": "vqenxzdwfuk7",
        "colab": {
          "base_uri": "https://localhost:8080/",
          "height": 244
        },
        "outputId": "7156d651-72fd-471b-82d4-08928f92b962"
      },
      "execution_count": null,
      "outputs": [
        {
          "output_type": "stream",
          "name": "stdout",
          "text": [
            "(45215, 17)\n"
          ]
        },
        {
          "output_type": "execute_result",
          "data": {
            "text/plain": [
              "   age           job  marital  education default  balance housing loan  \\\n",
              "0   58    management  married   tertiary      no   2143.0     yes   no   \n",
              "1   44    technician   single  secondary      no     29.0     yes   no   \n",
              "2   33  entrepreneur  married  secondary      no      2.0     yes  yes   \n",
              "3   47   blue-collar  married    unknown      no   1506.0     yes   no   \n",
              "4   33       unknown   single    unknown      no      1.0      no   no   \n",
              "\n",
              "   contact  day month  duration  campaign  pdays  previous poutcome   y  \n",
              "0  unknown    5   may     261.0         1   -1.0         0  unknown  no  \n",
              "1  unknown    5   may     151.0         1   -1.0         0  unknown  no  \n",
              "2  unknown    5   may      76.0         1   -1.0         0  unknown  no  \n",
              "3  unknown    5   may      92.0         1   -1.0         0  unknown  no  \n",
              "4  unknown    5   may     198.0         1   -1.0         0  unknown  no  "
            ],
            "text/html": [
              "\n",
              "  <div id=\"df-d1acd6c6-ec3d-4b05-bb31-43308714b396\" class=\"colab-df-container\">\n",
              "    <div>\n",
              "<style scoped>\n",
              "    .dataframe tbody tr th:only-of-type {\n",
              "        vertical-align: middle;\n",
              "    }\n",
              "\n",
              "    .dataframe tbody tr th {\n",
              "        vertical-align: top;\n",
              "    }\n",
              "\n",
              "    .dataframe thead th {\n",
              "        text-align: right;\n",
              "    }\n",
              "</style>\n",
              "<table border=\"1\" class=\"dataframe\">\n",
              "  <thead>\n",
              "    <tr style=\"text-align: right;\">\n",
              "      <th></th>\n",
              "      <th>age</th>\n",
              "      <th>job</th>\n",
              "      <th>marital</th>\n",
              "      <th>education</th>\n",
              "      <th>default</th>\n",
              "      <th>balance</th>\n",
              "      <th>housing</th>\n",
              "      <th>loan</th>\n",
              "      <th>contact</th>\n",
              "      <th>day</th>\n",
              "      <th>month</th>\n",
              "      <th>duration</th>\n",
              "      <th>campaign</th>\n",
              "      <th>pdays</th>\n",
              "      <th>previous</th>\n",
              "      <th>poutcome</th>\n",
              "      <th>y</th>\n",
              "    </tr>\n",
              "  </thead>\n",
              "  <tbody>\n",
              "    <tr>\n",
              "      <th>0</th>\n",
              "      <td>58</td>\n",
              "      <td>management</td>\n",
              "      <td>married</td>\n",
              "      <td>tertiary</td>\n",
              "      <td>no</td>\n",
              "      <td>2143.0</td>\n",
              "      <td>yes</td>\n",
              "      <td>no</td>\n",
              "      <td>unknown</td>\n",
              "      <td>5</td>\n",
              "      <td>may</td>\n",
              "      <td>261.0</td>\n",
              "      <td>1</td>\n",
              "      <td>-1.0</td>\n",
              "      <td>0</td>\n",
              "      <td>unknown</td>\n",
              "      <td>no</td>\n",
              "    </tr>\n",
              "    <tr>\n",
              "      <th>1</th>\n",
              "      <td>44</td>\n",
              "      <td>technician</td>\n",
              "      <td>single</td>\n",
              "      <td>secondary</td>\n",
              "      <td>no</td>\n",
              "      <td>29.0</td>\n",
              "      <td>yes</td>\n",
              "      <td>no</td>\n",
              "      <td>unknown</td>\n",
              "      <td>5</td>\n",
              "      <td>may</td>\n",
              "      <td>151.0</td>\n",
              "      <td>1</td>\n",
              "      <td>-1.0</td>\n",
              "      <td>0</td>\n",
              "      <td>unknown</td>\n",
              "      <td>no</td>\n",
              "    </tr>\n",
              "    <tr>\n",
              "      <th>2</th>\n",
              "      <td>33</td>\n",
              "      <td>entrepreneur</td>\n",
              "      <td>married</td>\n",
              "      <td>secondary</td>\n",
              "      <td>no</td>\n",
              "      <td>2.0</td>\n",
              "      <td>yes</td>\n",
              "      <td>yes</td>\n",
              "      <td>unknown</td>\n",
              "      <td>5</td>\n",
              "      <td>may</td>\n",
              "      <td>76.0</td>\n",
              "      <td>1</td>\n",
              "      <td>-1.0</td>\n",
              "      <td>0</td>\n",
              "      <td>unknown</td>\n",
              "      <td>no</td>\n",
              "    </tr>\n",
              "    <tr>\n",
              "      <th>3</th>\n",
              "      <td>47</td>\n",
              "      <td>blue-collar</td>\n",
              "      <td>married</td>\n",
              "      <td>unknown</td>\n",
              "      <td>no</td>\n",
              "      <td>1506.0</td>\n",
              "      <td>yes</td>\n",
              "      <td>no</td>\n",
              "      <td>unknown</td>\n",
              "      <td>5</td>\n",
              "      <td>may</td>\n",
              "      <td>92.0</td>\n",
              "      <td>1</td>\n",
              "      <td>-1.0</td>\n",
              "      <td>0</td>\n",
              "      <td>unknown</td>\n",
              "      <td>no</td>\n",
              "    </tr>\n",
              "    <tr>\n",
              "      <th>4</th>\n",
              "      <td>33</td>\n",
              "      <td>unknown</td>\n",
              "      <td>single</td>\n",
              "      <td>unknown</td>\n",
              "      <td>no</td>\n",
              "      <td>1.0</td>\n",
              "      <td>no</td>\n",
              "      <td>no</td>\n",
              "      <td>unknown</td>\n",
              "      <td>5</td>\n",
              "      <td>may</td>\n",
              "      <td>198.0</td>\n",
              "      <td>1</td>\n",
              "      <td>-1.0</td>\n",
              "      <td>0</td>\n",
              "      <td>unknown</td>\n",
              "      <td>no</td>\n",
              "    </tr>\n",
              "  </tbody>\n",
              "</table>\n",
              "</div>\n",
              "    <div class=\"colab-df-buttons\">\n",
              "\n",
              "  <div class=\"colab-df-container\">\n",
              "    <button class=\"colab-df-convert\" onclick=\"convertToInteractive('df-d1acd6c6-ec3d-4b05-bb31-43308714b396')\"\n",
              "            title=\"Convert this dataframe to an interactive table.\"\n",
              "            style=\"display:none;\">\n",
              "\n",
              "  <svg xmlns=\"http://www.w3.org/2000/svg\" height=\"24px\" viewBox=\"0 -960 960 960\">\n",
              "    <path d=\"M120-120v-720h720v720H120Zm60-500h600v-160H180v160Zm220 220h160v-160H400v160Zm0 220h160v-160H400v160ZM180-400h160v-160H180v160Zm440 0h160v-160H620v160ZM180-180h160v-160H180v160Zm440 0h160v-160H620v160Z\"/>\n",
              "  </svg>\n",
              "    </button>\n",
              "\n",
              "  <style>\n",
              "    .colab-df-container {\n",
              "      display:flex;\n",
              "      gap: 12px;\n",
              "    }\n",
              "\n",
              "    .colab-df-convert {\n",
              "      background-color: #E8F0FE;\n",
              "      border: none;\n",
              "      border-radius: 50%;\n",
              "      cursor: pointer;\n",
              "      display: none;\n",
              "      fill: #1967D2;\n",
              "      height: 32px;\n",
              "      padding: 0 0 0 0;\n",
              "      width: 32px;\n",
              "    }\n",
              "\n",
              "    .colab-df-convert:hover {\n",
              "      background-color: #E2EBFA;\n",
              "      box-shadow: 0px 1px 2px rgba(60, 64, 67, 0.3), 0px 1px 3px 1px rgba(60, 64, 67, 0.15);\n",
              "      fill: #174EA6;\n",
              "    }\n",
              "\n",
              "    .colab-df-buttons div {\n",
              "      margin-bottom: 4px;\n",
              "    }\n",
              "\n",
              "    [theme=dark] .colab-df-convert {\n",
              "      background-color: #3B4455;\n",
              "      fill: #D2E3FC;\n",
              "    }\n",
              "\n",
              "    [theme=dark] .colab-df-convert:hover {\n",
              "      background-color: #434B5C;\n",
              "      box-shadow: 0px 1px 3px 1px rgba(0, 0, 0, 0.15);\n",
              "      filter: drop-shadow(0px 1px 2px rgba(0, 0, 0, 0.3));\n",
              "      fill: #FFFFFF;\n",
              "    }\n",
              "  </style>\n",
              "\n",
              "    <script>\n",
              "      const buttonEl =\n",
              "        document.querySelector('#df-d1acd6c6-ec3d-4b05-bb31-43308714b396 button.colab-df-convert');\n",
              "      buttonEl.style.display =\n",
              "        google.colab.kernel.accessAllowed ? 'block' : 'none';\n",
              "\n",
              "      async function convertToInteractive(key) {\n",
              "        const element = document.querySelector('#df-d1acd6c6-ec3d-4b05-bb31-43308714b396');\n",
              "        const dataTable =\n",
              "          await google.colab.kernel.invokeFunction('convertToInteractive',\n",
              "                                                    [key], {});\n",
              "        if (!dataTable) return;\n",
              "\n",
              "        const docLinkHtml = 'Like what you see? Visit the ' +\n",
              "          '<a target=\"_blank\" href=https://colab.research.google.com/notebooks/data_table.ipynb>data table notebook</a>'\n",
              "          + ' to learn more about interactive tables.';\n",
              "        element.innerHTML = '';\n",
              "        dataTable['output_type'] = 'display_data';\n",
              "        await google.colab.output.renderOutput(dataTable, element);\n",
              "        const docLink = document.createElement('div');\n",
              "        docLink.innerHTML = docLinkHtml;\n",
              "        element.appendChild(docLink);\n",
              "      }\n",
              "    </script>\n",
              "  </div>\n",
              "\n",
              "\n",
              "<div id=\"df-de74141c-dfa9-4d41-aa3e-380003d218a9\">\n",
              "  <button class=\"colab-df-quickchart\" onclick=\"quickchart('df-de74141c-dfa9-4d41-aa3e-380003d218a9')\"\n",
              "            title=\"Suggest charts\"\n",
              "            style=\"display:none;\">\n",
              "\n",
              "<svg xmlns=\"http://www.w3.org/2000/svg\" height=\"24px\"viewBox=\"0 0 24 24\"\n",
              "     width=\"24px\">\n",
              "    <g>\n",
              "        <path d=\"M19 3H5c-1.1 0-2 .9-2 2v14c0 1.1.9 2 2 2h14c1.1 0 2-.9 2-2V5c0-1.1-.9-2-2-2zM9 17H7v-7h2v7zm4 0h-2V7h2v10zm4 0h-2v-4h2v4z\"/>\n",
              "    </g>\n",
              "</svg>\n",
              "  </button>\n",
              "\n",
              "<style>\n",
              "  .colab-df-quickchart {\n",
              "      --bg-color: #E8F0FE;\n",
              "      --fill-color: #1967D2;\n",
              "      --hover-bg-color: #E2EBFA;\n",
              "      --hover-fill-color: #174EA6;\n",
              "      --disabled-fill-color: #AAA;\n",
              "      --disabled-bg-color: #DDD;\n",
              "  }\n",
              "\n",
              "  [theme=dark] .colab-df-quickchart {\n",
              "      --bg-color: #3B4455;\n",
              "      --fill-color: #D2E3FC;\n",
              "      --hover-bg-color: #434B5C;\n",
              "      --hover-fill-color: #FFFFFF;\n",
              "      --disabled-bg-color: #3B4455;\n",
              "      --disabled-fill-color: #666;\n",
              "  }\n",
              "\n",
              "  .colab-df-quickchart {\n",
              "    background-color: var(--bg-color);\n",
              "    border: none;\n",
              "    border-radius: 50%;\n",
              "    cursor: pointer;\n",
              "    display: none;\n",
              "    fill: var(--fill-color);\n",
              "    height: 32px;\n",
              "    padding: 0;\n",
              "    width: 32px;\n",
              "  }\n",
              "\n",
              "  .colab-df-quickchart:hover {\n",
              "    background-color: var(--hover-bg-color);\n",
              "    box-shadow: 0 1px 2px rgba(60, 64, 67, 0.3), 0 1px 3px 1px rgba(60, 64, 67, 0.15);\n",
              "    fill: var(--button-hover-fill-color);\n",
              "  }\n",
              "\n",
              "  .colab-df-quickchart-complete:disabled,\n",
              "  .colab-df-quickchart-complete:disabled:hover {\n",
              "    background-color: var(--disabled-bg-color);\n",
              "    fill: var(--disabled-fill-color);\n",
              "    box-shadow: none;\n",
              "  }\n",
              "\n",
              "  .colab-df-spinner {\n",
              "    border: 2px solid var(--fill-color);\n",
              "    border-color: transparent;\n",
              "    border-bottom-color: var(--fill-color);\n",
              "    animation:\n",
              "      spin 1s steps(1) infinite;\n",
              "  }\n",
              "\n",
              "  @keyframes spin {\n",
              "    0% {\n",
              "      border-color: transparent;\n",
              "      border-bottom-color: var(--fill-color);\n",
              "      border-left-color: var(--fill-color);\n",
              "    }\n",
              "    20% {\n",
              "      border-color: transparent;\n",
              "      border-left-color: var(--fill-color);\n",
              "      border-top-color: var(--fill-color);\n",
              "    }\n",
              "    30% {\n",
              "      border-color: transparent;\n",
              "      border-left-color: var(--fill-color);\n",
              "      border-top-color: var(--fill-color);\n",
              "      border-right-color: var(--fill-color);\n",
              "    }\n",
              "    40% {\n",
              "      border-color: transparent;\n",
              "      border-right-color: var(--fill-color);\n",
              "      border-top-color: var(--fill-color);\n",
              "    }\n",
              "    60% {\n",
              "      border-color: transparent;\n",
              "      border-right-color: var(--fill-color);\n",
              "    }\n",
              "    80% {\n",
              "      border-color: transparent;\n",
              "      border-right-color: var(--fill-color);\n",
              "      border-bottom-color: var(--fill-color);\n",
              "    }\n",
              "    90% {\n",
              "      border-color: transparent;\n",
              "      border-bottom-color: var(--fill-color);\n",
              "    }\n",
              "  }\n",
              "</style>\n",
              "\n",
              "  <script>\n",
              "    async function quickchart(key) {\n",
              "      const quickchartButtonEl =\n",
              "        document.querySelector('#' + key + ' button');\n",
              "      quickchartButtonEl.disabled = true;  // To prevent multiple clicks.\n",
              "      quickchartButtonEl.classList.add('colab-df-spinner');\n",
              "      try {\n",
              "        const charts = await google.colab.kernel.invokeFunction(\n",
              "            'suggestCharts', [key], {});\n",
              "      } catch (error) {\n",
              "        console.error('Error during call to suggestCharts:', error);\n",
              "      }\n",
              "      quickchartButtonEl.classList.remove('colab-df-spinner');\n",
              "      quickchartButtonEl.classList.add('colab-df-quickchart-complete');\n",
              "    }\n",
              "    (() => {\n",
              "      let quickchartButtonEl =\n",
              "        document.querySelector('#df-de74141c-dfa9-4d41-aa3e-380003d218a9 button');\n",
              "      quickchartButtonEl.style.display =\n",
              "        google.colab.kernel.accessAllowed ? 'block' : 'none';\n",
              "    })();\n",
              "  </script>\n",
              "</div>\n",
              "\n",
              "    </div>\n",
              "  </div>\n"
            ],
            "application/vnd.google.colaboratory.intrinsic+json": {
              "type": "dataframe",
              "variable_name": "data",
              "summary": "{\n  \"name\": \"data\",\n  \"rows\": 45215,\n  \"fields\": [\n    {\n      \"column\": \"age\",\n      \"properties\": {\n        \"dtype\": \"number\",\n        \"std\": 12,\n        \"min\": 18,\n        \"max\": 776,\n        \"num_unique_values\": 85,\n        \"samples\": [\n          89,\n          58,\n          74\n        ],\n        \"semantic_type\": \"\",\n        \"description\": \"\"\n      }\n    },\n    {\n      \"column\": \"job\",\n      \"properties\": {\n        \"dtype\": \"category\",\n        \"num_unique_values\": 18,\n        \"samples\": [\n          \"management\",\n          \"technician\",\n          \"services\"\n        ],\n        \"semantic_type\": \"\",\n        \"description\": \"\"\n      }\n    },\n    {\n      \"column\": \"marital\",\n      \"properties\": {\n        \"dtype\": \"category\",\n        \"num_unique_values\": 6,\n        \"samples\": [\n          \"married\",\n          \"single\",\n          \"Single\"\n        ],\n        \"semantic_type\": \"\",\n        \"description\": \"\"\n      }\n    },\n    {\n      \"column\": \"education\",\n      \"properties\": {\n        \"dtype\": \"category\",\n        \"num_unique_values\": 10,\n        \"samples\": [\n          \"Tertiary\",\n          \"secondary\",\n          \"Secondary\"\n        ],\n        \"semantic_type\": \"\",\n        \"description\": \"\"\n      }\n    },\n    {\n      \"column\": \"default\",\n      \"properties\": {\n        \"dtype\": \"category\",\n        \"num_unique_values\": 2,\n        \"samples\": [\n          \"yes\",\n          \"no\"\n        ],\n        \"semantic_type\": \"\",\n        \"description\": \"\"\n      }\n    },\n    {\n      \"column\": \"balance\",\n      \"properties\": {\n        \"dtype\": \"number\",\n        \"std\": 3924.255524653657,\n        \"min\": -8019.0,\n        \"max\": 527532.0,\n        \"num_unique_values\": 7168,\n        \"samples\": [\n          3276.0,\n          43.0\n        ],\n        \"semantic_type\": \"\",\n        \"description\": \"\"\n      }\n    },\n    {\n      \"column\": \"housing\",\n      \"properties\": {\n        \"dtype\": \"category\",\n        \"num_unique_values\": 2,\n        \"samples\": [\n          \"no\",\n          \"yes\"\n        ],\n        \"semantic_type\": \"\",\n        \"description\": \"\"\n      }\n    },\n    {\n      \"column\": \"loan\",\n      \"properties\": {\n        \"dtype\": \"category\",\n        \"num_unique_values\": 6,\n        \"samples\": [\n          \"no\",\n          \"yes\"\n        ],\n        \"semantic_type\": \"\",\n        \"description\": \"\"\n      }\n    },\n    {\n      \"column\": \"contact\",\n      \"properties\": {\n        \"dtype\": \"category\",\n        \"num_unique_values\": 5,\n        \"samples\": [\n          \"cellular\",\n          \"mobile\"\n        ],\n        \"semantic_type\": \"\",\n        \"description\": \"\"\n      }\n    },\n    {\n      \"column\": \"day\",\n      \"properties\": {\n        \"dtype\": \"number\",\n        \"std\": 8,\n        \"min\": 1,\n        \"max\": 31,\n        \"num_unique_values\": 31,\n        \"samples\": [\n          1,\n          27\n        ],\n        \"semantic_type\": \"\",\n        \"description\": \"\"\n      }\n    },\n    {\n      \"column\": \"month\",\n      \"properties\": {\n        \"dtype\": \"category\",\n        \"num_unique_values\": 12,\n        \"samples\": [\n          \"apr\",\n          \"mar\"\n        ],\n        \"semantic_type\": \"\",\n        \"description\": \"\"\n      }\n    },\n    {\n      \"column\": \"duration\",\n      \"properties\": {\n        \"dtype\": \"number\",\n        \"std\": 257.6051746062185,\n        \"min\": -1389.0,\n        \"max\": 4918.0,\n        \"num_unique_values\": 1575,\n        \"samples\": [\n          1342.0,\n          4.0\n        ],\n        \"semantic_type\": \"\",\n        \"description\": \"\"\n      }\n    },\n    {\n      \"column\": \"campaign\",\n      \"properties\": {\n        \"dtype\": \"number\",\n        \"std\": 3,\n        \"min\": 1,\n        \"max\": 63,\n        \"num_unique_values\": 48,\n        \"samples\": [\n          41,\n          27\n        ],\n        \"semantic_type\": \"\",\n        \"description\": \"\"\n      }\n    },\n    {\n      \"column\": \"pdays\",\n      \"properties\": {\n        \"dtype\": \"number\",\n        \"std\": 100.12062172110123,\n        \"min\": -1.0,\n        \"max\": 871.0,\n        \"num_unique_values\": 559,\n        \"samples\": [\n          249.0,\n          551.0\n        ],\n        \"semantic_type\": \"\",\n        \"description\": \"\"\n      }\n    },\n    {\n      \"column\": \"previous\",\n      \"properties\": {\n        \"dtype\": \"number\",\n        \"std\": 2,\n        \"min\": 0,\n        \"max\": 275,\n        \"num_unique_values\": 41,\n        \"samples\": [\n          17,\n          9\n        ],\n        \"semantic_type\": \"\",\n        \"description\": \"\"\n      }\n    },\n    {\n      \"column\": \"poutcome\",\n      \"properties\": {\n        \"dtype\": \"category\",\n        \"num_unique_values\": 6,\n        \"samples\": [\n          \"unknown\",\n          \"UNK\"\n        ],\n        \"semantic_type\": \"\",\n        \"description\": \"\"\n      }\n    },\n    {\n      \"column\": \"y\",\n      \"properties\": {\n        \"dtype\": \"category\",\n        \"num_unique_values\": 2,\n        \"samples\": [\n          \"yes\",\n          \"no\"\n        ],\n        \"semantic_type\": \"\",\n        \"description\": \"\"\n      }\n    }\n  ]\n}"
            }
          },
          "metadata": {},
          "execution_count": 3
        }
      ]
    },
    {
      "cell_type": "code",
      "source": [
        "# Vemos las variables categoricas y numericas\n",
        "data.info()"
      ],
      "metadata": {
        "colab": {
          "base_uri": "https://localhost:8080/"
        },
        "id": "LwML-ZPEmajz",
        "outputId": "5ab8eab3-cc91-4023-8a30-40b2a20ec638"
      },
      "execution_count": null,
      "outputs": [
        {
          "output_type": "stream",
          "name": "stdout",
          "text": [
            "<class 'pandas.core.frame.DataFrame'>\n",
            "RangeIndex: 45215 entries, 0 to 45214\n",
            "Data columns (total 17 columns):\n",
            " #   Column     Non-Null Count  Dtype  \n",
            "---  ------     --------------  -----  \n",
            " 0   age        45215 non-null  int64  \n",
            " 1   job        45213 non-null  object \n",
            " 2   marital    45214 non-null  object \n",
            " 3   education  45214 non-null  object \n",
            " 4   default    45215 non-null  object \n",
            " 5   balance    45213 non-null  float64\n",
            " 6   housing    45215 non-null  object \n",
            " 7   loan       45215 non-null  object \n",
            " 8   contact    45215 non-null  object \n",
            " 9   day        45215 non-null  int64  \n",
            " 10  month      45215 non-null  object \n",
            " 11  duration   45214 non-null  float64\n",
            " 12  campaign   45215 non-null  int64  \n",
            " 13  pdays      45214 non-null  float64\n",
            " 14  previous   45215 non-null  int64  \n",
            " 15  poutcome   45215 non-null  object \n",
            " 16  y          45215 non-null  object \n",
            "dtypes: float64(3), int64(4), object(10)\n",
            "memory usage: 5.9+ MB\n"
          ]
        }
      ]
    },
    {
      "cell_type": "markdown",
      "source": [
        "**4. Limpieza**\n",
        "\n",
        "Realizaremos el proceso de limpieza teniendo en cuenta las situaciones mas comunes:\n",
        " 1. Datos faltantes en algunas celdas\n",
        " 2. Columnas irrelevantes (que no responden al problema que queremos resolver)\n",
        " 3. registros (filas) repetitidos\n",
        " 4. Valores extremos (outliers) en caso de las variables numerica. Se deben analizar en detalle pues no necesariamente la solucion es eliminarlos\n",
        " 5. Errores tipograficos en el caso de las variables categoricas\n",
        "\n",
        "al final de este proceso de limpieza deberiamos tener un set de datos **integro** , listo para la fase de Análisis Exploratorio"
      ],
      "metadata": {
        "id": "17DvMghrnU_b"
      }
    },
    {
      "cell_type": "markdown",
      "source": [
        "## 4.1 Datos faltantes\n",
        "\n",
        "Acá comenzamos a ver que los datos no están completos, pues no todas las columnas tienen la misma cantidad de registros.\n",
        "\n",
        "El número total de registros debería ser 45.215. Sin embargo columnas como \"job\", \"marital\", \"education\", \"balance\", \"duration\" y \"pdays\".\n",
        "\n",
        "Por ser tan pocos los datos  faltantes optaremos por eliminar las filas correspondientes:\n",
        "\n"
      ],
      "metadata": {
        "id": "GOskO6ksxTKp"
      }
    },
    {
      "cell_type": "code",
      "source": [
        "data.dropna(inplace=True)\n",
        "data.info()"
      ],
      "metadata": {
        "colab": {
          "base_uri": "https://localhost:8080/"
        },
        "id": "vjZqz_kI0G8Q",
        "outputId": "688e34fd-061e-4487-d377-62e356e3c7c6"
      },
      "execution_count": 3,
      "outputs": [
        {
          "output_type": "stream",
          "name": "stdout",
          "text": [
            "<class 'pandas.core.frame.DataFrame'>\n",
            "Int64Index: 45207 entries, 0 to 45214\n",
            "Data columns (total 17 columns):\n",
            " #   Column     Non-Null Count  Dtype  \n",
            "---  ------     --------------  -----  \n",
            " 0   age        45207 non-null  int64  \n",
            " 1   job        45207 non-null  object \n",
            " 2   marital    45207 non-null  object \n",
            " 3   education  45207 non-null  object \n",
            " 4   default    45207 non-null  object \n",
            " 5   balance    45207 non-null  float64\n",
            " 6   housing    45207 non-null  object \n",
            " 7   loan       45207 non-null  object \n",
            " 8   contact    45207 non-null  object \n",
            " 9   day        45207 non-null  int64  \n",
            " 10  month      45207 non-null  object \n",
            " 11  duration   45207 non-null  float64\n",
            " 12  campaign   45207 non-null  int64  \n",
            " 13  pdays      45207 non-null  float64\n",
            " 14  previous   45207 non-null  int64  \n",
            " 15  poutcome   45207 non-null  object \n",
            " 16  y          45207 non-null  object \n",
            "dtypes: float64(3), int64(4), object(10)\n",
            "memory usage: 6.2+ MB\n"
          ]
        }
      ]
    },
    {
      "cell_type": "markdown",
      "source": [
        "##4.2 Columnas irrelevantes\n",
        "\n",
        "Una columna irrelevante puede ser:\n",
        "\n",
        "- **Una columna que no contiene información relevante para el problema que queremos resolver**. Por ejemplo en este caso podría ser una columna que no guarde relación con el posible perfil del cliente (deporte favorito, hobbies, comida favorita, etc.)\n",
        "- **Una columna categórica pero con un sólo nivel**. Por ejemplo si en la columna \"job\" solo tuviésemos el nivel \"unknown\".\n",
        "- **Una columna numérica pero con un sólo valor**. Por ejemplo si en la columna \"edad\" todos los valores fuesen iguales a 50.\n",
        "- **Columnas con información redundante**. Por ejemplo si además de las columnas \"month\" y \"day\" tuviésemos la columna \"month-day\", resultado de combinar las dos anteriores.\n",
        "\n",
        "Si tenemos la duda de si alguna columna puede ser relevante o no lo mejor es dejarla (y más adelante en posteriores etapas podremos darnos cuenta de si se debe preservar o no).\n",
        "\n",
        "En este caso todas las columnas pueden resultar relevantes, pero debemos verificar que no haya columnas categóricas con un sólo nivel, o columnas numéricas con un sólo valor:\n",
        "\n",
        "Notas acerca de ciclo FOR\n",
        "\n",
        "for col in cols_cat:: Este es un bucle for que itera sobre cada elemento en la lista cols_cat. La variable col tomará el valor de cada elemento en cada iteración del bucle.\n",
        "\n",
        "print(f'Columna {col}: {data[col].nunique()} subniveles'): Dentro del bucle, esta línea de código imprime un mensaje que indica el nombre de la columna (col), seguido por el número de subniveles únicos en esa columna.\n",
        "\n",
        "f'Columna {col}: {data[col].nunique()} subniveles': Esta es una cadena de formato (f-string) que contiene dos variables:\n",
        "{col}: Representa el nombre de la columna actual en la iteración del bucle.\n",
        "{data[col].nunique()}: Representa el número de subniveles únicos en la columna actual. data[col] selecciona la columna actual del DataFrame y .nunique() calcula el número de valores únicos en esa columna.\n",
        "\n"
      ],
      "metadata": {
        "id": "8AL4eGoBXdSG"
      }
    },
    {
      "cell_type": "code",
      "source": [
        "# Conteo de los niveles en las diferentes columnas\n",
        "cols_cat = ['job', 'marital' , 'education', 'default', 'housing', 'loan' , 'contact', 'month', 'poutcome', 'y']\n",
        "\n",
        "for col in cols_cat:\n",
        " print(f'Columna {col}: {data[col].nunique()} subniveles')"
      ],
      "metadata": {
        "colab": {
          "base_uri": "https://localhost:8080/"
        },
        "id": "GFVt2Rec3QYf",
        "outputId": "8f9c07fa-8857-4709-c446-7c2b8948d9a2"
      },
      "execution_count": 4,
      "outputs": [
        {
          "output_type": "stream",
          "name": "stdout",
          "text": [
            "Columna job: 18 subniveles\n",
            "Columna marital: 6 subniveles\n",
            "Columna education: 10 subniveles\n",
            "Columna default: 2 subniveles\n",
            "Columna housing: 2 subniveles\n",
            "Columna loan: 6 subniveles\n",
            "Columna contact: 5 subniveles\n",
            "Columna month: 12 subniveles\n",
            "Columna poutcome: 6 subniveles\n",
            "Columna y: 2 subniveles\n"
          ]
        }
      ]
    },
    {
      "cell_type": "markdown",
      "source": [
        "Todas las columnas categóricas tienen más de 1 subnivel. No eliminaremos ninguna.\n",
        "\n",
        "Verifiquemos lo que ocurre con las columnas numéricas:"
      ],
      "metadata": {
        "id": "qJBBh2KvhrCC"
      }
    },
    {
      "cell_type": "code",
      "source": [
        "data.describe()"
      ],
      "metadata": {
        "colab": {
          "base_uri": "https://localhost:8080/",
          "height": 300
        },
        "id": "scVESTH3hyCV",
        "outputId": "44433ac4-331d-4f84-ac37-cf3865059f18"
      },
      "execution_count": 5,
      "outputs": [
        {
          "output_type": "execute_result",
          "data": {
            "text/plain": [
              "                age        balance           day      duration      campaign  \\\n",
              "count  45207.000000   45207.000000  45207.000000  45207.000000  45207.000000   \n",
              "mean      41.005596    1374.201318     15.806534    258.032539      2.763731   \n",
              "std       12.037399    3924.491665      8.323015    257.460759      3.098058   \n",
              "min       18.000000   -8019.000000      1.000000  -1389.000000      1.000000   \n",
              "25%       33.000000      72.000000      8.000000    103.000000      1.000000   \n",
              "50%       39.000000     448.000000     16.000000    180.000000      2.000000   \n",
              "75%       48.000000    1427.500000     21.000000    319.000000      3.000000   \n",
              "max      776.000000  527532.000000     31.000000   4918.000000     63.000000   \n",
              "\n",
              "              pdays      previous  \n",
              "count  45207.000000  45207.000000  \n",
              "mean      40.178225      0.580198  \n",
              "std      100.103283      2.303341  \n",
              "min       -1.000000      0.000000  \n",
              "25%       -1.000000      0.000000  \n",
              "50%       -1.000000      0.000000  \n",
              "75%       -1.000000      0.000000  \n",
              "max      871.000000    275.000000  "
            ],
            "text/html": [
              "\n",
              "  <div id=\"df-fbc73c4c-210f-4099-8443-3674e860c9dc\" class=\"colab-df-container\">\n",
              "    <div>\n",
              "<style scoped>\n",
              "    .dataframe tbody tr th:only-of-type {\n",
              "        vertical-align: middle;\n",
              "    }\n",
              "\n",
              "    .dataframe tbody tr th {\n",
              "        vertical-align: top;\n",
              "    }\n",
              "\n",
              "    .dataframe thead th {\n",
              "        text-align: right;\n",
              "    }\n",
              "</style>\n",
              "<table border=\"1\" class=\"dataframe\">\n",
              "  <thead>\n",
              "    <tr style=\"text-align: right;\">\n",
              "      <th></th>\n",
              "      <th>age</th>\n",
              "      <th>balance</th>\n",
              "      <th>day</th>\n",
              "      <th>duration</th>\n",
              "      <th>campaign</th>\n",
              "      <th>pdays</th>\n",
              "      <th>previous</th>\n",
              "    </tr>\n",
              "  </thead>\n",
              "  <tbody>\n",
              "    <tr>\n",
              "      <th>count</th>\n",
              "      <td>45207.000000</td>\n",
              "      <td>45207.000000</td>\n",
              "      <td>45207.000000</td>\n",
              "      <td>45207.000000</td>\n",
              "      <td>45207.000000</td>\n",
              "      <td>45207.000000</td>\n",
              "      <td>45207.000000</td>\n",
              "    </tr>\n",
              "    <tr>\n",
              "      <th>mean</th>\n",
              "      <td>41.005596</td>\n",
              "      <td>1374.201318</td>\n",
              "      <td>15.806534</td>\n",
              "      <td>258.032539</td>\n",
              "      <td>2.763731</td>\n",
              "      <td>40.178225</td>\n",
              "      <td>0.580198</td>\n",
              "    </tr>\n",
              "    <tr>\n",
              "      <th>std</th>\n",
              "      <td>12.037399</td>\n",
              "      <td>3924.491665</td>\n",
              "      <td>8.323015</td>\n",
              "      <td>257.460759</td>\n",
              "      <td>3.098058</td>\n",
              "      <td>100.103283</td>\n",
              "      <td>2.303341</td>\n",
              "    </tr>\n",
              "    <tr>\n",
              "      <th>min</th>\n",
              "      <td>18.000000</td>\n",
              "      <td>-8019.000000</td>\n",
              "      <td>1.000000</td>\n",
              "      <td>-1389.000000</td>\n",
              "      <td>1.000000</td>\n",
              "      <td>-1.000000</td>\n",
              "      <td>0.000000</td>\n",
              "    </tr>\n",
              "    <tr>\n",
              "      <th>25%</th>\n",
              "      <td>33.000000</td>\n",
              "      <td>72.000000</td>\n",
              "      <td>8.000000</td>\n",
              "      <td>103.000000</td>\n",
              "      <td>1.000000</td>\n",
              "      <td>-1.000000</td>\n",
              "      <td>0.000000</td>\n",
              "    </tr>\n",
              "    <tr>\n",
              "      <th>50%</th>\n",
              "      <td>39.000000</td>\n",
              "      <td>448.000000</td>\n",
              "      <td>16.000000</td>\n",
              "      <td>180.000000</td>\n",
              "      <td>2.000000</td>\n",
              "      <td>-1.000000</td>\n",
              "      <td>0.000000</td>\n",
              "    </tr>\n",
              "    <tr>\n",
              "      <th>75%</th>\n",
              "      <td>48.000000</td>\n",
              "      <td>1427.500000</td>\n",
              "      <td>21.000000</td>\n",
              "      <td>319.000000</td>\n",
              "      <td>3.000000</td>\n",
              "      <td>-1.000000</td>\n",
              "      <td>0.000000</td>\n",
              "    </tr>\n",
              "    <tr>\n",
              "      <th>max</th>\n",
              "      <td>776.000000</td>\n",
              "      <td>527532.000000</td>\n",
              "      <td>31.000000</td>\n",
              "      <td>4918.000000</td>\n",
              "      <td>63.000000</td>\n",
              "      <td>871.000000</td>\n",
              "      <td>275.000000</td>\n",
              "    </tr>\n",
              "  </tbody>\n",
              "</table>\n",
              "</div>\n",
              "    <div class=\"colab-df-buttons\">\n",
              "\n",
              "  <div class=\"colab-df-container\">\n",
              "    <button class=\"colab-df-convert\" onclick=\"convertToInteractive('df-fbc73c4c-210f-4099-8443-3674e860c9dc')\"\n",
              "            title=\"Convert this dataframe to an interactive table.\"\n",
              "            style=\"display:none;\">\n",
              "\n",
              "  <svg xmlns=\"http://www.w3.org/2000/svg\" height=\"24px\" viewBox=\"0 -960 960 960\">\n",
              "    <path d=\"M120-120v-720h720v720H120Zm60-500h600v-160H180v160Zm220 220h160v-160H400v160Zm0 220h160v-160H400v160ZM180-400h160v-160H180v160Zm440 0h160v-160H620v160ZM180-180h160v-160H180v160Zm440 0h160v-160H620v160Z\"/>\n",
              "  </svg>\n",
              "    </button>\n",
              "\n",
              "  <style>\n",
              "    .colab-df-container {\n",
              "      display:flex;\n",
              "      gap: 12px;\n",
              "    }\n",
              "\n",
              "    .colab-df-convert {\n",
              "      background-color: #E8F0FE;\n",
              "      border: none;\n",
              "      border-radius: 50%;\n",
              "      cursor: pointer;\n",
              "      display: none;\n",
              "      fill: #1967D2;\n",
              "      height: 32px;\n",
              "      padding: 0 0 0 0;\n",
              "      width: 32px;\n",
              "    }\n",
              "\n",
              "    .colab-df-convert:hover {\n",
              "      background-color: #E2EBFA;\n",
              "      box-shadow: 0px 1px 2px rgba(60, 64, 67, 0.3), 0px 1px 3px 1px rgba(60, 64, 67, 0.15);\n",
              "      fill: #174EA6;\n",
              "    }\n",
              "\n",
              "    .colab-df-buttons div {\n",
              "      margin-bottom: 4px;\n",
              "    }\n",
              "\n",
              "    [theme=dark] .colab-df-convert {\n",
              "      background-color: #3B4455;\n",
              "      fill: #D2E3FC;\n",
              "    }\n",
              "\n",
              "    [theme=dark] .colab-df-convert:hover {\n",
              "      background-color: #434B5C;\n",
              "      box-shadow: 0px 1px 3px 1px rgba(0, 0, 0, 0.15);\n",
              "      filter: drop-shadow(0px 1px 2px rgba(0, 0, 0, 0.3));\n",
              "      fill: #FFFFFF;\n",
              "    }\n",
              "  </style>\n",
              "\n",
              "    <script>\n",
              "      const buttonEl =\n",
              "        document.querySelector('#df-fbc73c4c-210f-4099-8443-3674e860c9dc button.colab-df-convert');\n",
              "      buttonEl.style.display =\n",
              "        google.colab.kernel.accessAllowed ? 'block' : 'none';\n",
              "\n",
              "      async function convertToInteractive(key) {\n",
              "        const element = document.querySelector('#df-fbc73c4c-210f-4099-8443-3674e860c9dc');\n",
              "        const dataTable =\n",
              "          await google.colab.kernel.invokeFunction('convertToInteractive',\n",
              "                                                    [key], {});\n",
              "        if (!dataTable) return;\n",
              "\n",
              "        const docLinkHtml = 'Like what you see? Visit the ' +\n",
              "          '<a target=\"_blank\" href=https://colab.research.google.com/notebooks/data_table.ipynb>data table notebook</a>'\n",
              "          + ' to learn more about interactive tables.';\n",
              "        element.innerHTML = '';\n",
              "        dataTable['output_type'] = 'display_data';\n",
              "        await google.colab.output.renderOutput(dataTable, element);\n",
              "        const docLink = document.createElement('div');\n",
              "        docLink.innerHTML = docLinkHtml;\n",
              "        element.appendChild(docLink);\n",
              "      }\n",
              "    </script>\n",
              "  </div>\n",
              "\n",
              "\n",
              "<div id=\"df-ee677ade-23a2-4ef9-8900-2ae1d2af766e\">\n",
              "  <button class=\"colab-df-quickchart\" onclick=\"quickchart('df-ee677ade-23a2-4ef9-8900-2ae1d2af766e')\"\n",
              "            title=\"Suggest charts\"\n",
              "            style=\"display:none;\">\n",
              "\n",
              "<svg xmlns=\"http://www.w3.org/2000/svg\" height=\"24px\"viewBox=\"0 0 24 24\"\n",
              "     width=\"24px\">\n",
              "    <g>\n",
              "        <path d=\"M19 3H5c-1.1 0-2 .9-2 2v14c0 1.1.9 2 2 2h14c1.1 0 2-.9 2-2V5c0-1.1-.9-2-2-2zM9 17H7v-7h2v7zm4 0h-2V7h2v10zm4 0h-2v-4h2v4z\"/>\n",
              "    </g>\n",
              "</svg>\n",
              "  </button>\n",
              "\n",
              "<style>\n",
              "  .colab-df-quickchart {\n",
              "      --bg-color: #E8F0FE;\n",
              "      --fill-color: #1967D2;\n",
              "      --hover-bg-color: #E2EBFA;\n",
              "      --hover-fill-color: #174EA6;\n",
              "      --disabled-fill-color: #AAA;\n",
              "      --disabled-bg-color: #DDD;\n",
              "  }\n",
              "\n",
              "  [theme=dark] .colab-df-quickchart {\n",
              "      --bg-color: #3B4455;\n",
              "      --fill-color: #D2E3FC;\n",
              "      --hover-bg-color: #434B5C;\n",
              "      --hover-fill-color: #FFFFFF;\n",
              "      --disabled-bg-color: #3B4455;\n",
              "      --disabled-fill-color: #666;\n",
              "  }\n",
              "\n",
              "  .colab-df-quickchart {\n",
              "    background-color: var(--bg-color);\n",
              "    border: none;\n",
              "    border-radius: 50%;\n",
              "    cursor: pointer;\n",
              "    display: none;\n",
              "    fill: var(--fill-color);\n",
              "    height: 32px;\n",
              "    padding: 0;\n",
              "    width: 32px;\n",
              "  }\n",
              "\n",
              "  .colab-df-quickchart:hover {\n",
              "    background-color: var(--hover-bg-color);\n",
              "    box-shadow: 0 1px 2px rgba(60, 64, 67, 0.3), 0 1px 3px 1px rgba(60, 64, 67, 0.15);\n",
              "    fill: var(--button-hover-fill-color);\n",
              "  }\n",
              "\n",
              "  .colab-df-quickchart-complete:disabled,\n",
              "  .colab-df-quickchart-complete:disabled:hover {\n",
              "    background-color: var(--disabled-bg-color);\n",
              "    fill: var(--disabled-fill-color);\n",
              "    box-shadow: none;\n",
              "  }\n",
              "\n",
              "  .colab-df-spinner {\n",
              "    border: 2px solid var(--fill-color);\n",
              "    border-color: transparent;\n",
              "    border-bottom-color: var(--fill-color);\n",
              "    animation:\n",
              "      spin 1s steps(1) infinite;\n",
              "  }\n",
              "\n",
              "  @keyframes spin {\n",
              "    0% {\n",
              "      border-color: transparent;\n",
              "      border-bottom-color: var(--fill-color);\n",
              "      border-left-color: var(--fill-color);\n",
              "    }\n",
              "    20% {\n",
              "      border-color: transparent;\n",
              "      border-left-color: var(--fill-color);\n",
              "      border-top-color: var(--fill-color);\n",
              "    }\n",
              "    30% {\n",
              "      border-color: transparent;\n",
              "      border-left-color: var(--fill-color);\n",
              "      border-top-color: var(--fill-color);\n",
              "      border-right-color: var(--fill-color);\n",
              "    }\n",
              "    40% {\n",
              "      border-color: transparent;\n",
              "      border-right-color: var(--fill-color);\n",
              "      border-top-color: var(--fill-color);\n",
              "    }\n",
              "    60% {\n",
              "      border-color: transparent;\n",
              "      border-right-color: var(--fill-color);\n",
              "    }\n",
              "    80% {\n",
              "      border-color: transparent;\n",
              "      border-right-color: var(--fill-color);\n",
              "      border-bottom-color: var(--fill-color);\n",
              "    }\n",
              "    90% {\n",
              "      border-color: transparent;\n",
              "      border-bottom-color: var(--fill-color);\n",
              "    }\n",
              "  }\n",
              "</style>\n",
              "\n",
              "  <script>\n",
              "    async function quickchart(key) {\n",
              "      const quickchartButtonEl =\n",
              "        document.querySelector('#' + key + ' button');\n",
              "      quickchartButtonEl.disabled = true;  // To prevent multiple clicks.\n",
              "      quickchartButtonEl.classList.add('colab-df-spinner');\n",
              "      try {\n",
              "        const charts = await google.colab.kernel.invokeFunction(\n",
              "            'suggestCharts', [key], {});\n",
              "      } catch (error) {\n",
              "        console.error('Error during call to suggestCharts:', error);\n",
              "      }\n",
              "      quickchartButtonEl.classList.remove('colab-df-spinner');\n",
              "      quickchartButtonEl.classList.add('colab-df-quickchart-complete');\n",
              "    }\n",
              "    (() => {\n",
              "      let quickchartButtonEl =\n",
              "        document.querySelector('#df-ee677ade-23a2-4ef9-8900-2ae1d2af766e button');\n",
              "      quickchartButtonEl.style.display =\n",
              "        google.colab.kernel.accessAllowed ? 'block' : 'none';\n",
              "    })();\n",
              "  </script>\n",
              "</div>\n",
              "\n",
              "    </div>\n",
              "  </div>\n"
            ],
            "application/vnd.google.colaboratory.intrinsic+json": {
              "type": "dataframe",
              "summary": "{\n  \"name\": \"data\",\n  \"rows\": 8,\n  \"fields\": [\n    {\n      \"column\": \"age\",\n      \"properties\": {\n        \"dtype\": \"number\",\n        \"std\": 15936.377113535487,\n        \"min\": 12.037399491095579,\n        \"max\": 45207.0,\n        \"num_unique_values\": 8,\n        \"samples\": [\n          41.00559647842148,\n          39.0,\n          45207.0\n        ],\n        \"semantic_type\": \"\",\n        \"description\": \"\"\n      }\n    },\n    {\n      \"column\": \"balance\",\n      \"properties\": {\n        \"dtype\": \"number\",\n        \"std\": 184980.44537690686,\n        \"min\": -8019.0,\n        \"max\": 527532.0,\n        \"num_unique_values\": 8,\n        \"samples\": [\n          1374.201318379897,\n          448.0,\n          45207.0\n        ],\n        \"semantic_type\": \"\",\n        \"description\": \"\"\n      }\n    },\n    {\n      \"column\": \"day\",\n      \"properties\": {\n        \"dtype\": \"number\",\n        \"std\": 15977.982912722464,\n        \"min\": 1.0,\n        \"max\": 45207.0,\n        \"num_unique_values\": 8,\n        \"samples\": [\n          15.806534386267613,\n          16.0,\n          45207.0\n        ],\n        \"semantic_type\": \"\",\n        \"description\": \"\"\n      }\n    },\n    {\n      \"column\": \"duration\",\n      \"properties\": {\n        \"dtype\": \"number\",\n        \"std\": 15853.774591473693,\n        \"min\": -1389.0,\n        \"max\": 45207.0,\n        \"num_unique_values\": 8,\n        \"samples\": [\n          258.03253920852967,\n          180.0,\n          45207.0\n        ],\n        \"semantic_type\": \"\",\n        \"description\": \"\"\n      }\n    },\n    {\n      \"column\": \"campaign\",\n      \"properties\": {\n        \"dtype\": \"number\",\n        \"std\": 15979.270740389022,\n        \"min\": 1.0,\n        \"max\": 45207.0,\n        \"num_unique_values\": 7,\n        \"samples\": [\n          45207.0,\n          2.7637312805538965,\n          3.0\n        ],\n        \"semantic_type\": \"\",\n        \"description\": \"\"\n      }\n    },\n    {\n      \"column\": \"pdays\",\n      \"properties\": {\n        \"dtype\": \"number\",\n        \"std\": 15935.01603409571,\n        \"min\": -1.0,\n        \"max\": 45207.0,\n        \"num_unique_values\": 5,\n        \"samples\": [\n          40.17822461123277,\n          871.0,\n          100.10328306134589\n        ],\n        \"semantic_type\": \"\",\n        \"description\": \"\"\n      }\n    },\n    {\n      \"column\": \"previous\",\n      \"properties\": {\n        \"dtype\": \"number\",\n        \"std\": 15969.34183644876,\n        \"min\": 0.0,\n        \"max\": 45207.0,\n        \"num_unique_values\": 5,\n        \"samples\": [\n          0.5801977569845378,\n          275.0,\n          2.3033409783835315\n        ],\n        \"semantic_type\": \"\",\n        \"description\": \"\"\n      }\n    }\n  ]\n}"
            }
          },
          "metadata": {},
          "execution_count": 5
        }
      ]
    },
    {
      "cell_type": "markdown",
      "source": [
        "Todas las columnas numéricas tienen desviaciones estándar (\"std\") diferentes de cero, lo que indica que no tienen un único valor.\n",
        "\n",
        "Preservamos todas las columnas numéricas.\n",
        "\n",
        "La desviación estándar es una medida que nos indica qué tan dispersos o alejados están los valores de un conjunto de datos respecto a su media o promedio. En otras palabras, nos ayuda a entender cuánto varían los valores individuales de un conjunto de datos con respecto a su valor promedio.\n",
        "\n",
        "Imagina que tienes un conjunto de datos que representa las alturas de estudiantes en una clase. Si la desviación estándar es baja, significa que la mayoría de los estudiantes tienen alturas muy similares entre sí y cercanas a la altura promedio de la clase. Por otro lado, si la desviación estándar es alta, significa que las alturas de los estudiantes están muy dispersas, algunos son muy altos y otros muy bajos en comparación con la altura promedio.\n",
        "\n",
        "Entonces, la desviación estándar nos da una idea de la dispersión o variabilidad de los datos alrededor de su promedio. Una desviación estándar baja indica que los datos están más agrupados alrededor del promedio, mientras que una desviación estándar alta indica que los datos están más dispersos o separados del promedio.\n"
      ],
      "metadata": {
        "id": "u75V-Exl3OQx"
      }
    },
    {
      "cell_type": "code",
      "source": [
        "#count = data['pdays']=1.count_()\n",
        "count = data['pdays'].value_counts()[-1]\n",
        "\n",
        "print (count)"
      ],
      "metadata": {
        "colab": {
          "base_uri": "https://localhost:8080/"
        },
        "id": "bx1pTZ0Kx8Ob",
        "outputId": "2d059d8e-46c2-4155-ae50-91e489e2e5c6"
      },
      "execution_count": 6,
      "outputs": [
        {
          "output_type": "stream",
          "name": "stdout",
          "text": [
            "36953\n"
          ]
        }
      ]
    },
    {
      "cell_type": "code",
      "source": [
        "# Calcula la media del atributo \"pdays: dias de contacto al usuario antes de la campaña actual \"\n",
        "media = data [ 'pdays'].mean()\n",
        "\n",
        "print(\"media de la pdays:\",media)"
      ],
      "metadata": {
        "colab": {
          "base_uri": "https://localhost:8080/"
        },
        "id": "jm__95GqsixT",
        "outputId": "b14a0352-dce7-4f18-910a-c65dfa7e9021"
      },
      "execution_count": 7,
      "outputs": [
        {
          "output_type": "stream",
          "name": "stdout",
          "text": [
            "media de la pdays: 40.17822461123277\n"
          ]
        }
      ]
    },
    {
      "cell_type": "code",
      "source": [
        "# Graficar un histograma del atributo \"campaña\"\n",
        "plt.hist(data['pdays'], bins=20, color='skyblue', edgecolor='black', alpha=0.7)\n",
        "\n",
        "# Agregar una linea vertical para ,mostrar la media\n",
        "plt.axvline(media, color='red', linestyle='dashed', linewidth=1)\n",
        "\n",
        "# Etiquetas y titulo\n",
        "plt.xlabel('Valor de la pdays')\n",
        "plt.ylabel('Frecuencia')\n",
        "plt.title('Histograma de la pdays con media')\n",
        "\n",
        "# Mostrar la grafica\n",
        "plt.show()"
      ],
      "metadata": {
        "colab": {
          "base_uri": "https://localhost:8080/",
          "height": 472
        },
        "id": "YmfinAR1kVip",
        "outputId": "908e9958-1660-44b0-944b-002877d33c74"
      },
      "execution_count": 8,
      "outputs": [
        {
          "output_type": "display_data",
          "data": {
            "text/plain": [
              "<Figure size 640x480 with 1 Axes>"
            ],
            "image/png": "[encoded data removed]"
          },
          "metadata": {}
        }
      ]
    },
    {
      "cell_type": "code",
      "source": [
        "# Calcula la desviacion estandar del articulo \"pdays\"\n",
        "desviacion_estandar = data['pdays'].std()\n",
        "\n",
        "print(\"Desviacion estandar de la pdays\")"
      ],
      "metadata": {
        "colab": {
          "base_uri": "https://localhost:8080/"
        },
        "id": "EKFFiwZ9o4MB",
        "outputId": "621e34c8-b0c4-490d-9191-2edca5fddf38"
      },
      "execution_count": 9,
      "outputs": [
        {
          "output_type": "stream",
          "name": "stdout",
          "text": [
            "Desviacion estandar de la pdays\n"
          ]
        }
      ]
    },
    {
      "cell_type": "code",
      "source": [
        "# Graficar un histograma del articulo \" campaña\"\n",
        "plt.hist(data['pdays'], bins=20, color='skyblue', edgecolor='black', alpha=0.7)\n",
        "\n",
        "# Agregar linea vertical para mostrar la deviacion estandar\n",
        "plt.axvline(desviacion_estandar, color='red', linestyle='dashed', linewidth=1)\n",
        "\n",
        "# Etiquetas y titulo\n",
        "plt.xlabel('Valor de la pdays')\n",
        "plt.ylabel('Frecuencia')\n",
        "plt.title('Histograma de la pdays con la Desviación Estandar')\n",
        "\n",
        "# Mostrar Grafica\n",
        "plt.show()\n"
      ],
      "metadata": {
        "colab": {
          "base_uri": "https://localhost:8080/",
          "height": 472
        },
        "id": "OxoH6asErZ5q",
        "outputId": "db7df85c-e3c6-4291-f951-c6d1d60813f5"
      },
      "execution_count": 10,
      "outputs": [
        {
          "output_type": "display_data",
          "data": {
            "text/plain": [
              "<Figure size 640x480 with 1 Axes>"
            ],
            "image/png": "[encoded data removed]"
          },
          "metadata": {}
        }
      ]
    },
    {
      "cell_type": "markdown",
      "source": [
        "##4.3 Filas repetidas\n"
      ],
      "metadata": {
        "id": "ko19d0-rzvIz"
      }
    },
    {
      "cell_type": "code",
      "source": [
        "# Mostramos la cantidad de registros antes de aplicar una transformacion, limpieza o filtro\n",
        "print(f'Tamaño del set antes de eliminar la filas repetidas:{data.shape}')\n",
        "data.drop_duplicates(inplace=True)\n",
        "# Mostramos la cantidad de registros despues de aplicar una transformacion, limpieza, filtro\n",
        "print(f'Tamañano del set despues de eliminar las filas repetidas:{data.shape}')\n"
      ],
      "metadata": {
        "colab": {
          "base_uri": "https://localhost:8080/"
        },
        "id": "POaheKCD4XQ_",
        "outputId": "b46ccee4-3e28-4bec-8057-4e889e39eaa9"
      },
      "execution_count": 11,
      "outputs": [
        {
          "output_type": "stream",
          "name": "stdout",
          "text": [
            "Tamaño del set antes de eliminar la filas repetidas:(45207, 17)\n",
            "Tamañano del set despues de eliminar las filas repetidas:(45203, 17)\n"
          ]
        }
      ]
    },
    {
      "cell_type": "markdown",
      "source": [
        "##4.4 *Outliers* en las variables numéricas\n",
        "\n",
        "No siempre se deben eliminar los *outliers* porque dependiendo de la variable numérica analizada estos pueden contener información importante.\n",
        "\n",
        "Creemos gráficas tipo \"boxplot\" de las columnas numéricas:\n",
        "\n",
        "\n"
      ],
      "metadata": {
        "id": "gHsm20IqzyKg"
      }
    },
    {
      "cell_type": "code",
      "source": [
        "# Generar graficas individuales pues las variables numericas\n",
        "# estan en rangos diferentes\n",
        "cols_num = ['age', 'balance', 'day', 'duration', 'campaign',\n",
        "            'pdays', 'previous']\n",
        "\n",
        "fig, ax = plt.subplots(nrows=7, ncols=1, figsize=(8,30))\n",
        "fig.subplots_adjust(hspace=0.5)\n",
        "\n",
        "for i, col in enumerate(cols_num):\n",
        "  sns.boxplot(x=col, data=data, ax=ax[i])\n",
        "  ax[i].set_title(col)"
      ],
      "metadata": {
        "colab": {
          "base_uri": "https://localhost:8080/",
          "height": 1000
        },
        "id": "7LtS_TDcBAu1",
        "outputId": "aaa21860-e849-4740-feba-6acaf0414362"
      },
      "execution_count": 15,
      "outputs": [
        {
          "output_type": "display_data",
          "data": {
            "text/plain": [
              "<Figure size 800x3000 with 7 Axes>"
            ],
            "image/png": "[encoded data removed]"
          },
          "metadata": {}
        }
      ]
    },
    {
      "cell_type": "markdown",
      "source": [
        "**Observaciones:**\n",
        "- \"age\": hay sujetos con edades mucho mayores a 100 años\n",
        "- \"duration\": hay valores negativos\n",
        "- \"previous\": hay un valor extremadamente alto (cercano a 300)\n"
      ],
      "metadata": {
        "id": "2CI8dvqEA4GM"
      }
    },
    {
      "cell_type": "markdown",
      "source": [
        "\n",
        "##4.5 Errores tipográficos en variables categóricas\n",
        "\n",
        "En una variable categórica pueden aparecer sub-niveles como \"unknown\" y \"UNK\" que para nosotros son equivalentes pero que para nuestro programa parecerían diferentes.\n",
        "\n",
        "Se deben unificar estos sub-niveles\n",
        "\n"
      ],
      "metadata": {
        "id": "yyyP072Rz2HE"
      }
    }
  ]
}